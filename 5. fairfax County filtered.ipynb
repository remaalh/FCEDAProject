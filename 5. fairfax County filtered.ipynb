{
 "cells": [
  {
   "cell_type": "code",
   "execution_count": 3,
   "id": "12a021f0",
   "metadata": {},
   "outputs": [
    {
     "name": "stderr",
     "output_type": "stream",
     "text": [
      "/var/folders/vl/66bj5_5x56n6mnk25p2th_m80000gn/T/ipykernel_9396/1927753924.py:6: DtypeWarning: Columns (1) have mixed types. Specify dtype option on import or set low_memory=False.\n",
      "  businesses = pd.read_csv('/Users/yangyungchyi/Documents/Spring 2025/MIS 462/0420_3.csv')\n"
     ]
    }
   ],
   "source": [
    "import pandas as pd\n",
    "import geopandas as gpd\n",
    "from shapely.geometry import Point\n",
    "\n",
    "# Load business dataset\n",
    "businesses = pd.read_csv('/Users/yangyungchyi/Documents/Spring 2025/MIS 462/0420_3.csv')\n",
    "\n",
    "# Ensure correct latitude/longitude column names\n",
    "if \"Latitude\" not in businesses.columns or \"Longitude\" not in businesses.columns:\n",
    "    raise ValueError(\"Check your latitude and longitude column names!\")\n",
    "\n",
    "# Convert to GeoDataFrame\n",
    "geometry = [Point(xy) for xy in zip(businesses[\"Longitude\"], businesses[\"Latitude\"])]\n",
    "businesses_gdf = gpd.GeoDataFrame(businesses, geometry=geometry, crs=\"EPSG:4326\")  # Set to WGS84\n",
    "\n",
    "# Load Fairfax County Shapefile\n",
    "fairfax_county = gpd.read_file('/Users/yangyungchyi/Documents/Spring 2025/MIS 462/Fairfax_County_Boundary_7635420215722256251/Fairfax_County_Boundary.shp')  # Update with correct file path\n",
    "\n",
    "# Ensure CRS matches\n",
    "businesses_gdf = businesses_gdf.to_crs(fairfax_county.crs)\n",
    "\n",
    "# Check if Fairfax City exists and exclude it\n",
    "if \"City\" in fairfax_county.columns:\n",
    "    print(f\"Unique cities: {fairfax_county['City'].unique()}\")  # Debugging step\n",
    "    fairfax_county = fairfax_county[fairfax_county[\"City\"] != \"Fairfax City\"]\n",
    "\n",
    "# Perform spatial join\n",
    "filtered_businesses = gpd.sjoin(businesses_gdf, fairfax_county, predicate=\"intersects\")\n",
    "\n",
    "# Save results\n",
    "filtered_businesses.to_csv(\"0420_4.csv\", index=False)\n"
   ]
  }
 ],
 "metadata": {
  "kernelspec": {
   "display_name": "Python 3 (ipykernel)",
   "language": "python",
   "name": "python3"
  },
  "language_info": {
   "codemirror_mode": {
    "name": "ipython",
    "version": 3
   },
   "file_extension": ".py",
   "mimetype": "text/x-python",
   "name": "python",
   "nbconvert_exporter": "python",
   "pygments_lexer": "ipython3",
   "version": "3.11.4"
  }
 },
 "nbformat": 4,
 "nbformat_minor": 5
}
