{
 "cells": [
  {
   "cell_type": "code",
   "execution_count": 24,
   "id": "cb546a6a",
   "metadata": {},
   "outputs": [
    {
     "name": "stderr",
     "output_type": "stream",
     "text": [
      "/var/folders/vl/66bj5_5x56n6mnk25p2th_m80000gn/T/ipykernel_2194/4204801667.py:4: DtypeWarning: Columns (1) have mixed types. Specify dtype option on import or set low_memory=False.\n",
      "  df_final = pd.read_csv('/Users/yangyungchyi/Documents/Spring 2025/MIS 462/geocoding data for next cycle.csv')\n",
      "/var/folders/vl/66bj5_5x56n6mnk25p2th_m80000gn/T/ipykernel_2194/4204801667.py:25: SettingWithCopyWarning: \n",
      "A value is trying to be set on a copy of a slice from a DataFrame.\n",
      "Try using .loc[row_indexer,col_indexer] = value instead\n",
      "\n",
      "See the caveats in the documentation: https://pandas.pydata.org/pandas-docs/stable/user_guide/indexing.html#returning-a-view-versus-a-copy\n",
      "  new_records[col] = \"\"\n",
      "/var/folders/vl/66bj5_5x56n6mnk25p2th_m80000gn/T/ipykernel_2194/4204801667.py:25: SettingWithCopyWarning: \n",
      "A value is trying to be set on a copy of a slice from a DataFrame.\n",
      "Try using .loc[row_indexer,col_indexer] = value instead\n",
      "\n",
      "See the caveats in the documentation: https://pandas.pydata.org/pandas-docs/stable/user_guide/indexing.html#returning-a-view-versus-a-copy\n",
      "  new_records[col] = \"\"\n",
      "/var/folders/vl/66bj5_5x56n6mnk25p2th_m80000gn/T/ipykernel_2194/4204801667.py:25: SettingWithCopyWarning: \n",
      "A value is trying to be set on a copy of a slice from a DataFrame.\n",
      "Try using .loc[row_indexer,col_indexer] = value instead\n",
      "\n",
      "See the caveats in the documentation: https://pandas.pydata.org/pandas-docs/stable/user_guide/indexing.html#returning-a-view-versus-a-copy\n",
      "  new_records[col] = \"\"\n",
      "/var/folders/vl/66bj5_5x56n6mnk25p2th_m80000gn/T/ipykernel_2194/4204801667.py:25: SettingWithCopyWarning: \n",
      "A value is trying to be set on a copy of a slice from a DataFrame.\n",
      "Try using .loc[row_indexer,col_indexer] = value instead\n",
      "\n",
      "See the caveats in the documentation: https://pandas.pydata.org/pandas-docs/stable/user_guide/indexing.html#returning-a-view-versus-a-copy\n",
      "  new_records[col] = \"\"\n"
     ]
    },
    {
     "name": "stdout",
     "output_type": "stream",
     "text": [
      "Columns before saving: ['Unnamed: 0', 'EntityID', 'Name', 'Status', 'IncorpDate', 'IncorpState', 'BuildingName', 'Street1', 'Street2', 'City', 'State', 'BusinessType', 'ZIPCODE', 'Shape__Area', 'Shape__Length', 'Longitude', 'Latitude']\n",
      "Updated dataset saved as '0420_1.csv'\n"
     ]
    }
   ],
   "source": [
    "import pandas as pd\n",
    "\n",
    "# Load current geocoded dataset (this already contains lat/long)\n",
    "df_final = pd.read_csv('/Users/yangyungchyi/Documents/Spring 2025/MIS 462/geocoding data for next cycle.csv')\n",
    "\n",
    "# Load the current cycle's data\n",
    "df_current = pd.read_csv('/Users/yangyungchyi/Documents/Spring 2025/MIS 462/0420.csv')\n",
    "\n",
    "# Clean up and ensure EntityID formats match\n",
    "df_final['EntityID'] = df_final['EntityID'].astype(str).str.strip()\n",
    "df_current['EntityID'] = df_current['EntityID'].astype(str).str.strip()\n",
    "\n",
    "# Filter: only keep businesses in df_final that are still active in the current dataset\n",
    "df_updated = df_final[df_final['EntityID'].isin(df_current['EntityID'])]\n",
    "\n",
    "# Identify new records: present in df_current but not in df_final\n",
    "existing_ids_set = set(df_final['EntityID'])\n",
    "new_records = df_current[~df_current['EntityID'].isin(existing_ids_set)]\n",
    "\n",
    "# Ensure new_records has all columns in df_final, including lat/long, even if missing\n",
    "# Recalculate this AFTER any updates to df_final to preserve lat/long\n",
    "columns_needed = df_final.columns\n",
    "for col in columns_needed:\n",
    "    if col not in new_records.columns:\n",
    "        new_records[col] = \"\"\n",
    "\n",
    "# Reorder new_records columns to match df_final\n",
    "new_records = new_records[columns_needed]\n",
    "\n",
    "# Merge old + new\n",
    "updated_final = pd.concat([df_final, new_records], ignore_index=True)\n",
    "\n",
    "# Final check before saving\n",
    "print(\"Columns before saving:\", updated_final.columns.tolist())\n",
    "\n",
    "# Save the updated dataset\n",
    "updated_final.to_csv('/Users/yangyungchyi/Documents/Spring 2025/MIS 462/0420_1.csv', index=False)\n",
    "print(\"Updated dataset saved as '0420_1.csv'\")\n"
   ]
  }
 ],
 "metadata": {
  "kernelspec": {
   "display_name": "Python 3 (ipykernel)",
   "language": "python",
   "name": "python3"
  },
  "language_info": {
   "codemirror_mode": {
    "name": "ipython",
    "version": 3
   },
   "file_extension": ".py",
   "mimetype": "text/x-python",
   "name": "python",
   "nbconvert_exporter": "python",
   "pygments_lexer": "ipython3",
   "version": "3.11.4"
  }
 },
 "nbformat": 4,
 "nbformat_minor": 5
}
