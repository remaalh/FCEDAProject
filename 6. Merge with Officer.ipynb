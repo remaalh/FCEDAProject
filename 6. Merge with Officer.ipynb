{
 "cells": [
  {
   "cell_type": "code",
   "execution_count": 3,
   "id": "54856749",
   "metadata": {},
   "outputs": [
    {
     "name": "stdout",
     "output_type": "stream",
     "text": [
      "Collecting rapidfuzz\n",
      "  Obtaining dependency information for rapidfuzz from https://files.pythonhosted.org/packages/75/67/62e57896ecbabe363f027d24cc769d55dd49019e576533ec10e492fcd8a2/rapidfuzz-3.13.0-cp311-cp311-macosx_11_0_arm64.whl.metadata\n",
      "  Downloading rapidfuzz-3.13.0-cp311-cp311-macosx_11_0_arm64.whl.metadata (12 kB)\n",
      "Downloading rapidfuzz-3.13.0-cp311-cp311-macosx_11_0_arm64.whl (1.5 MB)\n",
      "\u001b[2K   \u001b[90m━━━━━━━━━━━━━━━━━━━━━━━━━━━━━━━━━━━━━━━━\u001b[0m \u001b[32m1.5/1.5 MB\u001b[0m \u001b[31m4.0 MB/s\u001b[0m eta \u001b[36m0:00:00\u001b[0m00:01\u001b[0m00:01\u001b[0m\n",
      "\u001b[?25hInstalling collected packages: rapidfuzz\n",
      "Successfully installed rapidfuzz-3.13.0\n",
      "Note: you may need to restart the kernel to use updated packages.\n"
     ]
    }
   ],
   "source": [
    "pip install rapidfuzz\n"
   ]
  },
  {
   "cell_type": "code",
   "execution_count": 8,
   "id": "dd05bdeb",
   "metadata": {},
   "outputs": [],
   "source": [
    "import pandas as pd\n",
    "from rapidfuzz import fuzz\n",
    "\n",
    "# Load data\n",
    "officers = pd.read_csv('/Users/yangyungchyi/Documents/Spring 2025/MIS 462/Officer.csv', dtype=str)\n",
    "metadata = pd.read_csv('/Users/yangyungchyi/Documents/Spring 2025/MIS 462/0420_4.csv', dtype=str)\n",
    "\n",
    "# Function to determine if the officer title is relevant\n",
    "def is_relevant_title(title):\n",
    "    title = str(title).lower()\n",
    "    if any(ex in title for ex in ['secr', 'vice', 'assistant', 'past', 'elect', 'trustee', 'officer', 'chairman']):\n",
    "        return False\n",
    "    score_president = fuzz.partial_ratio(title, 'president')\n",
    "    score_ceo = fuzz.partial_ratio(title, 'ceo')\n",
    "    score_owner = fuzz.partial_ratio(title, 'owner')\n",
    "    return score_president > 80 or score_ceo > 80 or score_owner > 80\n",
    "\n",
    "# Filter officers by relevant titles\n",
    "filtered_officers = officers[officers['OfficerTitle'].apply(is_relevant_title)]\n",
    "\n",
    "# Merge metadata with filtered officers\n",
    "merged = pd.merge(\n",
    "    metadata,\n",
    "    filtered_officers,\n",
    "    on='EntityID',\n",
    "    how='left',\n",
    "    suffixes=('', '_officer')\n",
    ")\n",
    "\n",
    "# Rename officer columns from the merged dataframe\n",
    "merged = merged.rename(columns={\n",
    "    'OfficerFirstName_officer': 'OfficerFirstName',\n",
    "    'OfficerLastName_officer': 'OfficerLastName',\n",
    "    'OfficerTitle_officer': 'OfficerTitle'\n",
    "})\n",
    "\n",
    "# Reorder columns: move officer fields to the end\n",
    "officer_cols = ['OfficerLastName', 'OfficerFirstName', 'OfficerTitle']\n",
    "other_cols = [col for col in merged.columns if col not in officer_cols]\n",
    "merged = merged[other_cols + officer_cols]\n",
    "\n",
    "columns_to_keep = [\n",
    "    \"EntityID\", \"Name\", \"Status\", \"IncorpDate\", \"IncorpState\", \"BuildingName\", \"Street1\", \"Street2\",\n",
    "    \"City\", \"State\", \"BusinessType\", \"ZIPCODE\", \"Shape__Area\", \"Shape__Length\", \n",
    "    \"Full_Address\", \"Latitude\", \"Longitude\",'OfficerFirstName','OfficerLastName','OfficerTitle'\n",
    "]\n",
    "\n",
    "merged = merged[columns_to_keep]\n",
    "\n",
    "# Save result\n",
    "merged.to_csv(\"0420_without_building.csv\", index=False)\n"
   ]
  }
 ],
 "metadata": {
  "kernelspec": {
   "display_name": "Python 3 (ipykernel)",
   "language": "python",
   "name": "python3"
  },
  "language_info": {
   "codemirror_mode": {
    "name": "ipython",
    "version": 3
   },
   "file_extension": ".py",
   "mimetype": "text/x-python",
   "name": "python",
   "nbconvert_exporter": "python",
   "pygments_lexer": "ipython3",
   "version": "3.11.4"
  }
 },
 "nbformat": 4,
 "nbformat_minor": 5
}
