{
 "cells": [
  {
   "cell_type": "code",
   "execution_count": 18,
   "id": "939a16c5",
   "metadata": {},
   "outputs": [
    {
     "name": "stderr",
     "output_type": "stream",
     "text": [
      "/var/folders/vl/66bj5_5x56n6mnk25p2th_m80000gn/T/ipykernel_45394/2259635979.py:5: DtypeWarning: Columns (0) have mixed types. Specify dtype option on import or set low_memory=False.\n",
      "  df = pd.read_csv(file_path)\n",
      "/var/folders/vl/66bj5_5x56n6mnk25p2th_m80000gn/T/ipykernel_45394/2259635979.py:5: DtypeWarning: Columns (0,9) have mixed types. Specify dtype option on import or set low_memory=False.\n",
      "  df = pd.read_csv(file_path)\n"
     ]
    },
    {
     "name": "stdout",
     "output_type": "stream",
     "text": [
      "File saved locally as 0420.csv\n"
     ]
    }
   ],
   "source": [
    "import pandas as pd\n",
    "\n",
    "# Load business datasets and tag with source\n",
    "def load_and_tag(file_path, source_name):\n",
    "    df = pd.read_csv(file_path)\n",
    "    df['Source'] = source_name\n",
    "    return df\n",
    "\n",
    "df_lp = load_and_tag('/Users/yangyungchyi/Documents/Spring 2025/MIS 462/cleaned/LP-2.csv', 'LP')\n",
    "df_llc = load_and_tag('/Users/yangyungchyi/Documents/Spring 2025/MIS 462/cleaned/LLC-2.csv', 'LLC')\n",
    "df_gp = load_and_tag('/Users/yangyungchyi/Documents/Spring 2025/MIS 462/cleaned/GP-2.csv', 'GP')\n",
    "df_corp = load_and_tag('/Users/yangyungchyi/Documents/Spring 2025/MIS 462/cleaned/Corp-2.csv', 'Corp')\n",
    "\n",
    "# Load ZIP code dataset\n",
    "df_zipcode = pd.read_csv('/Users/yangyungchyi/Documents/Spring 2025/MIS 462/BEData02092025/FairfaxZIP_Codes.csv')\n",
    "df_zipcode['ZIPCODE'] = df_zipcode['ZIPCODE'].astype(str).str.strip()  # Ensure ZIP is string and clean\n",
    "\n",
    "# Optional: filter only needed columns\n",
    "keep_columns_zip = ['ZIPCODE', 'Shape__Area', 'Shape__Length']\n",
    "df_zipcode = df_zipcode[keep_columns_zip]\n",
    "\n",
    "# Combine all business datasets\n",
    "business_df = pd.concat([df_lp, df_llc, df_gp, df_corp], ignore_index=True)\n",
    "business_df['Zip'] = business_df['Zip'].astype(str).str.strip()  # Clean Zip codes\n",
    "\n",
    "# Join on Zip\n",
    "df_joined = pd.merge(business_df, df_zipcode, left_on='Zip', right_on='ZIPCODE', how='left')\n",
    "\n",
    "# Filter out unmatched ZIPs\n",
    "df_joined = df_joined[df_joined['ZIPCODE'].notna()]\n",
    "\n",
    "# Drop original Zip column (optional)\n",
    "df_joined.drop(columns=['Zip'], inplace=True)\n",
    "\n",
    "# Save to CSV\n",
    "local_filename = \"0420.csv\"\n",
    "df_joined.to_csv(local_filename, index=False, encoding='utf-8-sig')\n",
    "print(f\"File saved locally as {local_filename}\")\n"
   ]
  }
 ],
 "metadata": {
  "kernelspec": {
   "display_name": "Python 3 (ipykernel)",
   "language": "python",
   "name": "python3"
  },
  "language_info": {
   "codemirror_mode": {
    "name": "ipython",
    "version": 3
   },
   "file_extension": ".py",
   "mimetype": "text/x-python",
   "name": "python",
   "nbconvert_exporter": "python",
   "pygments_lexer": "ipython3",
   "version": "3.11.4"
  }
 },
 "nbformat": 4,
 "nbformat_minor": 5
}
