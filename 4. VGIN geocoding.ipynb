{
 "cells": [
  {
   "cell_type": "code",
   "execution_count": 1,
   "id": "717ea786",
   "metadata": {},
   "outputs": [
    {
     "name": "stderr",
     "output_type": "stream",
     "text": [
      "/var/folders/vl/66bj5_5x56n6mnk25p2th_m80000gn/T/ipykernel_49424/1141002644.py:7: DtypeWarning: Columns (1) have mixed types. Specify dtype option on import or set low_memory=False.\n",
      "  df = pd.read_csv('/Users/yangyungchyi/Documents/Spring 2025/MIS 462/0420_2.csv')\n",
      "Geocoding Progress:   5%|█▉                                  | 7677/144967 [01:06<19:19, 118.38it/s]"
     ]
    },
    {
     "name": "stdout",
     "output_type": "stream",
     "text": [
      "Saved after 7700 records\n"
     ]
    },
    {
     "name": "stderr",
     "output_type": "stream",
     "text": [
      "Geocoding Progress:   6%|██▎                                  | 9050/144967 [01:22<34:51, 64.97it/s]"
     ]
    },
    {
     "name": "stdout",
     "output_type": "stream",
     "text": [
      "Saved after 9100 records\n"
     ]
    },
    {
     "name": "stderr",
     "output_type": "stream",
     "text": [
      "Geocoding Progress:  22%|███████▉                            | 31781/144967 [05:32<45:18, 41.64it/s]"
     ]
    },
    {
     "name": "stdout",
     "output_type": "stream",
     "text": [
      "Saved after 31900 records\n"
     ]
    },
    {
     "name": "stderr",
     "output_type": "stream",
     "text": [
      "Geocoding Progress:  28%|██████████                          | 40497/144967 [07:19<41:41, 41.77it/s]"
     ]
    },
    {
     "name": "stdout",
     "output_type": "stream",
     "text": [
      "Saved after 40600 records\n"
     ]
    },
    {
     "name": "stderr",
     "output_type": "stream",
     "text": [
      "Geocoding Progress:  37%|████████████▉                      | 53748/144967 [09:36<11:28, 132.45it/s]"
     ]
    },
    {
     "name": "stdout",
     "output_type": "stream",
     "text": [
      "Saved after 54100 records\n"
     ]
    },
    {
     "name": "stderr",
     "output_type": "stream",
     "text": [
      "Geocoding Progress:  38%|█████████████▏                     | 54390/144967 [09:39<08:14, 183.29it/s]"
     ]
    },
    {
     "name": "stdout",
     "output_type": "stream",
     "text": [
      "Saved after 54600 records\n"
     ]
    },
    {
     "name": "stderr",
     "output_type": "stream",
     "text": [
      "Geocoding Progress:  42%|██████████████▊                    | 61250/144967 [10:20<06:59, 199.52it/s]"
     ]
    },
    {
     "name": "stdout",
     "output_type": "stream",
     "text": [
      "Saved after 61400 records\n"
     ]
    },
    {
     "name": "stderr",
     "output_type": "stream",
     "text": [
      "Geocoding Progress:  71%|████████████████████████          | 102564/144967 [14:41<04:18, 164.21it/s]"
     ]
    },
    {
     "name": "stdout",
     "output_type": "stream",
     "text": [
      "Saved after 102600 records\n"
     ]
    },
    {
     "name": "stderr",
     "output_type": "stream",
     "text": [
      "Geocoding Progress:  74%|████████████████████████▍        | 107496/144967 [18:46<2:10:11,  4.80it/s]"
     ]
    },
    {
     "name": "stdout",
     "output_type": "stream",
     "text": [
      "Saved after 107500 records\n"
     ]
    },
    {
     "name": "stderr",
     "output_type": "stream",
     "text": [
      "Geocoding Progress:  75%|████████████████████████▋        | 108486/144967 [20:47<2:09:28,  4.70it/s]"
     ]
    },
    {
     "name": "stdout",
     "output_type": "stream",
     "text": [
      "Saved after 108500 records\n"
     ]
    },
    {
     "name": "stderr",
     "output_type": "stream",
     "text": [
      "Geocoding Progress:  75%|██████████████████████████▏        | 108692/144967 [21:05<26:21, 22.94it/s]"
     ]
    },
    {
     "name": "stdout",
     "output_type": "stream",
     "text": [
      "Saved after 108700 records\n"
     ]
    },
    {
     "name": "stderr",
     "output_type": "stream",
     "text": [
      "Geocoding Progress:  76%|██████████████████████████▋        | 110698/144967 [23:39<49:16, 11.59it/s]"
     ]
    },
    {
     "name": "stdout",
     "output_type": "stream",
     "text": [
      "Saved after 110700 records\n"
     ]
    },
    {
     "name": "stderr",
     "output_type": "stream",
     "text": [
      "Geocoding Progress:  77%|██████████████████████████▊        | 111094/144967 [24:03<38:58, 14.48it/s]"
     ]
    },
    {
     "name": "stdout",
     "output_type": "stream",
     "text": [
      "Saved after 111100 records\n"
     ]
    },
    {
     "name": "stderr",
     "output_type": "stream",
     "text": [
      "Geocoding Progress:  77%|███████████████████████████        | 111974/144967 [24:59<17:04, 32.20it/s]"
     ]
    },
    {
     "name": "stdout",
     "output_type": "stream",
     "text": [
      "Saved after 112000 records\n"
     ]
    },
    {
     "name": "stderr",
     "output_type": "stream",
     "text": [
      "Geocoding Progress:  80%|███████████████████████████▊       | 115453/144967 [28:30<25:36, 19.21it/s]"
     ]
    },
    {
     "name": "stdout",
     "output_type": "stream",
     "text": [
      "Saved after 115500 records\n"
     ]
    },
    {
     "name": "stderr",
     "output_type": "stream",
     "text": [
      "Geocoding Progress:  80%|████████████████████████████▏      | 116685/144967 [29:37<34:23, 13.71it/s]"
     ]
    },
    {
     "name": "stdout",
     "output_type": "stream",
     "text": [
      "Saved after 116700 records\n"
     ]
    },
    {
     "name": "stderr",
     "output_type": "stream",
     "text": [
      "Geocoding Progress:  85%|█████████████████████████████▊     | 123547/144967 [35:32<23:37, 15.11it/s]"
     ]
    },
    {
     "name": "stdout",
     "output_type": "stream",
     "text": [
      "Saved after 123600 records\n"
     ]
    },
    {
     "name": "stderr",
     "output_type": "stream",
     "text": [
      "Geocoding Progress:  91%|███████████████████████████████▊   | 131678/144967 [39:37<06:43, 32.94it/s]"
     ]
    },
    {
     "name": "stdout",
     "output_type": "stream",
     "text": [
      "Saved after 131700 records\n"
     ]
    },
    {
     "name": "stderr",
     "output_type": "stream",
     "text": [
      "Geocoding Progress:  96%|█████████████████████████████████▋ | 139399/144967 [41:27<15:15,  6.08it/s]"
     ]
    },
    {
     "name": "stdout",
     "output_type": "stream",
     "text": [
      "Saved after 139400 records\n"
     ]
    },
    {
     "name": "stderr",
     "output_type": "stream",
     "text": [
      "Geocoding Progress:  96%|███████████████████████████████▊ | 139499/144967 [43:18<1:40:29,  1.10s/it]"
     ]
    },
    {
     "name": "stdout",
     "output_type": "stream",
     "text": [
      "Saved after 139500 records\n"
     ]
    },
    {
     "name": "stderr",
     "output_type": "stream",
     "text": [
      "Geocoding Progress:  96%|███████████████████████████████▊ | 139599/144967 [45:09<1:38:18,  1.10s/it]"
     ]
    },
    {
     "name": "stdout",
     "output_type": "stream",
     "text": [
      "Saved after 139600 records\n"
     ]
    },
    {
     "name": "stderr",
     "output_type": "stream",
     "text": [
      "Geocoding Progress:  96%|███████████████████████████████▊ | 139699/144967 [47:00<1:36:34,  1.10s/it]"
     ]
    },
    {
     "name": "stdout",
     "output_type": "stream",
     "text": [
      "Saved after 139700 records\n"
     ]
    },
    {
     "name": "stderr",
     "output_type": "stream",
     "text": [
      "Geocoding Progress:  96%|███████████████████████████████▊ | 139799/144967 [48:51<1:35:16,  1.11s/it]"
     ]
    },
    {
     "name": "stdout",
     "output_type": "stream",
     "text": [
      "Saved after 139800 records\n"
     ]
    },
    {
     "name": "stderr",
     "output_type": "stream",
     "text": [
      "Geocoding Progress:  97%|███████████████████████████████▊ | 139899/144967 [50:42<1:32:41,  1.10s/it]"
     ]
    },
    {
     "name": "stdout",
     "output_type": "stream",
     "text": [
      "Saved after 139900 records\n"
     ]
    },
    {
     "name": "stderr",
     "output_type": "stream",
     "text": [
      "Geocoding Progress:  97%|███████████████████████████████▊ | 139999/144967 [52:32<1:30:49,  1.10s/it]"
     ]
    },
    {
     "name": "stdout",
     "output_type": "stream",
     "text": [
      "Saved after 140000 records\n"
     ]
    },
    {
     "name": "stderr",
     "output_type": "stream",
     "text": [
      "Geocoding Progress:  97%|███████████████████████████████▉ | 140099/144967 [54:23<1:29:08,  1.10s/it]"
     ]
    },
    {
     "name": "stdout",
     "output_type": "stream",
     "text": [
      "Saved after 140100 records\n"
     ]
    },
    {
     "name": "stderr",
     "output_type": "stream",
     "text": [
      "Geocoding Progress:  97%|███████████████████████████████▉ | 140199/144967 [56:13<1:26:49,  1.09s/it]"
     ]
    },
    {
     "name": "stdout",
     "output_type": "stream",
     "text": [
      "Saved after 140200 records\n"
     ]
    },
    {
     "name": "stderr",
     "output_type": "stream",
     "text": [
      "Geocoding Progress:  97%|███████████████████████████████▉ | 140299/144967 [58:04<1:25:23,  1.10s/it]"
     ]
    },
    {
     "name": "stdout",
     "output_type": "stream",
     "text": [
      "Saved after 140300 records\n"
     ]
    },
    {
     "name": "stderr",
     "output_type": "stream",
     "text": [
      "Geocoding Progress:  97%|███████████████████████████████▉ | 140399/144967 [59:55<1:24:08,  1.11s/it]"
     ]
    },
    {
     "name": "stdout",
     "output_type": "stream",
     "text": [
      "Saved after 140400 records\n"
     ]
    },
    {
     "name": "stderr",
     "output_type": "stream",
     "text": [
      "Geocoding Progress:  97%|██████████████████████████████ | 140499/144967 [1:01:46<1:21:44,  1.10s/it]"
     ]
    },
    {
     "name": "stdout",
     "output_type": "stream",
     "text": [
      "Saved after 140500 records\n"
     ]
    },
    {
     "name": "stderr",
     "output_type": "stream",
     "text": [
      "Geocoding Progress:  97%|██████████████████████████████ | 140599/144967 [1:03:36<1:19:37,  1.09s/it]"
     ]
    },
    {
     "name": "stdout",
     "output_type": "stream",
     "text": [
      "Saved after 140600 records\n"
     ]
    },
    {
     "name": "stderr",
     "output_type": "stream",
     "text": [
      "Geocoding Progress:  97%|██████████████████████████████ | 140699/144967 [1:05:27<1:18:04,  1.10s/it]"
     ]
    },
    {
     "name": "stdout",
     "output_type": "stream",
     "text": [
      "Saved after 140700 records\n"
     ]
    },
    {
     "name": "stderr",
     "output_type": "stream",
     "text": [
      "Geocoding Progress:  97%|██████████████████████████████ | 140799/144967 [1:07:17<1:15:53,  1.09s/it]"
     ]
    },
    {
     "name": "stdout",
     "output_type": "stream",
     "text": [
      "Saved after 140800 records\n"
     ]
    },
    {
     "name": "stderr",
     "output_type": "stream",
     "text": [
      "Geocoding Progress:  97%|██████████████████████████████▏| 140899/144967 [1:09:08<1:14:16,  1.10s/it]"
     ]
    },
    {
     "name": "stdout",
     "output_type": "stream",
     "text": [
      "Saved after 140900 records\n"
     ]
    },
    {
     "name": "stderr",
     "output_type": "stream",
     "text": [
      "Geocoding Progress:  97%|██████████████████████████████▏| 140999/144967 [1:10:59<1:12:29,  1.10s/it]"
     ]
    },
    {
     "name": "stdout",
     "output_type": "stream",
     "text": [
      "Saved after 141000 records\n"
     ]
    },
    {
     "name": "stderr",
     "output_type": "stream",
     "text": [
      "Geocoding Progress:  97%|██████████████████████████████▏| 141099/144967 [1:12:50<1:10:42,  1.10s/it]"
     ]
    },
    {
     "name": "stdout",
     "output_type": "stream",
     "text": [
      "Saved after 141100 records\n"
     ]
    },
    {
     "name": "stderr",
     "output_type": "stream",
     "text": [
      "Geocoding Progress:  97%|██████████████████████████████▏| 141199/144967 [1:14:41<1:09:30,  1.11s/it]"
     ]
    },
    {
     "name": "stdout",
     "output_type": "stream",
     "text": [
      "Saved after 141200 records\n"
     ]
    },
    {
     "name": "stderr",
     "output_type": "stream",
     "text": [
      "Geocoding Progress:  97%|██████████████████████████████▏| 141299/144967 [1:16:33<1:07:49,  1.11s/it]"
     ]
    },
    {
     "name": "stdout",
     "output_type": "stream",
     "text": [
      "Saved after 141300 records\n"
     ]
    },
    {
     "name": "stderr",
     "output_type": "stream",
     "text": [
      "Geocoding Progress:  98%|██████████████████████████████▏| 141399/144967 [1:18:25<1:06:02,  1.11s/it]"
     ]
    },
    {
     "name": "stdout",
     "output_type": "stream",
     "text": [
      "Saved after 141400 records\n"
     ]
    },
    {
     "name": "stderr",
     "output_type": "stream",
     "text": [
      "Geocoding Progress:  98%|██████████████████████████████▎| 141499/144967 [1:20:17<1:04:28,  1.12s/it]"
     ]
    },
    {
     "name": "stdout",
     "output_type": "stream",
     "text": [
      "Saved after 141500 records\n"
     ]
    },
    {
     "name": "stderr",
     "output_type": "stream",
     "text": [
      "Geocoding Progress:  98%|██████████████████████████████▎| 141599/144967 [1:22:08<1:01:45,  1.10s/it]"
     ]
    },
    {
     "name": "stdout",
     "output_type": "stream",
     "text": [
      "Saved after 141600 records\n"
     ]
    },
    {
     "name": "stderr",
     "output_type": "stream",
     "text": [
      "Geocoding Progress:  98%|████████████████████████████████▎| 141699/144967 [1:23:59<59:42,  1.10s/it]"
     ]
    },
    {
     "name": "stdout",
     "output_type": "stream",
     "text": [
      "Saved after 141700 records\n"
     ]
    },
    {
     "name": "stderr",
     "output_type": "stream",
     "text": [
      "Geocoding Progress:  98%|████████████████████████████████▎| 141799/144967 [1:25:50<57:58,  1.10s/it]"
     ]
    },
    {
     "name": "stdout",
     "output_type": "stream",
     "text": [
      "Saved after 141800 records\n"
     ]
    },
    {
     "name": "stderr",
     "output_type": "stream",
     "text": [
      "Geocoding Progress:  98%|████████████████████████████████▎| 141899/144967 [1:27:41<56:28,  1.10s/it]"
     ]
    },
    {
     "name": "stdout",
     "output_type": "stream",
     "text": [
      "Saved after 141900 records\n"
     ]
    },
    {
     "name": "stderr",
     "output_type": "stream",
     "text": [
      "Geocoding Progress:  98%|████████████████████████████████▎| 141999/144967 [1:29:32<54:39,  1.10s/it]"
     ]
    },
    {
     "name": "stdout",
     "output_type": "stream",
     "text": [
      "Saved after 142000 records\n"
     ]
    },
    {
     "name": "stderr",
     "output_type": "stream",
     "text": [
      "Geocoding Progress:  98%|████████████████████████████████▎| 142099/144967 [1:31:23<52:31,  1.10s/it]"
     ]
    },
    {
     "name": "stdout",
     "output_type": "stream",
     "text": [
      "Saved after 142100 records\n"
     ]
    },
    {
     "name": "stderr",
     "output_type": "stream",
     "text": [
      "Geocoding Progress:  98%|████████████████████████████████▎| 142199/144967 [1:33:14<50:23,  1.09s/it]"
     ]
    },
    {
     "name": "stdout",
     "output_type": "stream",
     "text": [
      "Saved after 142200 records\n"
     ]
    },
    {
     "name": "stderr",
     "output_type": "stream",
     "text": [
      "Geocoding Progress:  98%|████████████████████████████████▍| 142299/144967 [1:35:04<48:58,  1.10s/it]"
     ]
    },
    {
     "name": "stdout",
     "output_type": "stream",
     "text": [
      "Saved after 142300 records\n"
     ]
    },
    {
     "name": "stderr",
     "output_type": "stream",
     "text": [
      "Geocoding Progress:  98%|████████████████████████████████▍| 142399/144967 [1:36:55<46:59,  1.10s/it]"
     ]
    },
    {
     "name": "stdout",
     "output_type": "stream",
     "text": [
      "Saved after 142400 records\n"
     ]
    },
    {
     "name": "stderr",
     "output_type": "stream",
     "text": [
      "Geocoding Progress:  98%|████████████████████████████████▍| 142499/144967 [1:38:46<45:28,  1.11s/it]"
     ]
    },
    {
     "name": "stdout",
     "output_type": "stream",
     "text": [
      "Saved after 142500 records\n"
     ]
    },
    {
     "name": "stderr",
     "output_type": "stream",
     "text": [
      "Geocoding Progress:  98%|████████████████████████████████▍| 142599/144967 [1:40:37<44:21,  1.12s/it]"
     ]
    },
    {
     "name": "stdout",
     "output_type": "stream",
     "text": [
      "Saved after 142600 records\n"
     ]
    },
    {
     "name": "stderr",
     "output_type": "stream",
     "text": [
      "Geocoding Progress:  98%|████████████████████████████████▍| 142699/144967 [1:42:29<41:57,  1.11s/it]"
     ]
    },
    {
     "name": "stdout",
     "output_type": "stream",
     "text": [
      "Saved after 142700 records\n"
     ]
    },
    {
     "name": "stderr",
     "output_type": "stream",
     "text": [
      "Geocoding Progress:  99%|████████████████████████████████▌| 142799/144967 [1:44:20<40:01,  1.11s/it]"
     ]
    },
    {
     "name": "stdout",
     "output_type": "stream",
     "text": [
      "Saved after 142800 records\n"
     ]
    },
    {
     "name": "stderr",
     "output_type": "stream",
     "text": [
      "Geocoding Progress:  99%|████████████████████████████████▌| 142899/144967 [1:46:10<37:56,  1.10s/it]"
     ]
    },
    {
     "name": "stdout",
     "output_type": "stream",
     "text": [
      "Saved after 142900 records\n"
     ]
    },
    {
     "name": "stderr",
     "output_type": "stream",
     "text": [
      "Geocoding Progress:  99%|████████████████████████████████▌| 142999/144967 [1:48:01<36:08,  1.10s/it]"
     ]
    },
    {
     "name": "stdout",
     "output_type": "stream",
     "text": [
      "Saved after 143000 records\n"
     ]
    },
    {
     "name": "stderr",
     "output_type": "stream",
     "text": [
      "Geocoding Progress:  99%|████████████████████████████████▌| 143099/144967 [1:49:51<34:09,  1.10s/it]"
     ]
    },
    {
     "name": "stdout",
     "output_type": "stream",
     "text": [
      "Saved after 143100 records\n"
     ]
    },
    {
     "name": "stderr",
     "output_type": "stream",
     "text": [
      "Geocoding Progress:  99%|████████████████████████████████▌| 143199/144967 [1:51:42<32:27,  1.10s/it]"
     ]
    },
    {
     "name": "stdout",
     "output_type": "stream",
     "text": [
      "Saved after 143200 records\n"
     ]
    },
    {
     "name": "stderr",
     "output_type": "stream",
     "text": [
      "Geocoding Progress:  99%|████████████████████████████████▌| 143299/144967 [1:53:32<30:37,  1.10s/it]"
     ]
    },
    {
     "name": "stdout",
     "output_type": "stream",
     "text": [
      "Saved after 143300 records\n"
     ]
    },
    {
     "name": "stderr",
     "output_type": "stream",
     "text": [
      "Geocoding Progress:  99%|████████████████████████████████▋| 143399/144967 [1:55:23<28:42,  1.10s/it]"
     ]
    },
    {
     "name": "stdout",
     "output_type": "stream",
     "text": [
      "Saved after 143400 records\n"
     ]
    },
    {
     "name": "stderr",
     "output_type": "stream",
     "text": [
      "Geocoding Progress:  99%|████████████████████████████████▋| 143499/144967 [1:57:14<26:53,  1.10s/it]"
     ]
    },
    {
     "name": "stdout",
     "output_type": "stream",
     "text": [
      "Saved after 143500 records\n"
     ]
    },
    {
     "name": "stderr",
     "output_type": "stream",
     "text": [
      "Geocoding Progress:  99%|████████████████████████████████▋| 143599/144967 [1:59:04<24:58,  1.10s/it]"
     ]
    },
    {
     "name": "stdout",
     "output_type": "stream",
     "text": [
      "Saved after 143600 records\n"
     ]
    },
    {
     "name": "stderr",
     "output_type": "stream",
     "text": [
      "Geocoding Progress:  99%|████████████████████████████████▋| 143699/144967 [2:00:55<23:07,  1.09s/it]"
     ]
    },
    {
     "name": "stdout",
     "output_type": "stream",
     "text": [
      "Saved after 143700 records\n"
     ]
    },
    {
     "name": "stderr",
     "output_type": "stream",
     "text": [
      "Geocoding Progress:  99%|████████████████████████████████▋| 143799/144967 [2:02:46<21:40,  1.11s/it]"
     ]
    },
    {
     "name": "stdout",
     "output_type": "stream",
     "text": [
      "Saved after 143800 records\n"
     ]
    },
    {
     "name": "stderr",
     "output_type": "stream",
     "text": [
      "Geocoding Progress:  99%|████████████████████████████████▊| 143899/144967 [2:04:37<19:44,  1.11s/it]"
     ]
    },
    {
     "name": "stdout",
     "output_type": "stream",
     "text": [
      "Saved after 143900 records\n"
     ]
    },
    {
     "name": "stderr",
     "output_type": "stream",
     "text": [
      "Geocoding Progress:  99%|████████████████████████████████▊| 143999/144967 [2:06:29<17:50,  1.11s/it]"
     ]
    },
    {
     "name": "stdout",
     "output_type": "stream",
     "text": [
      "Saved after 144000 records\n"
     ]
    },
    {
     "name": "stderr",
     "output_type": "stream",
     "text": [
      "Geocoding Progress:  99%|████████████████████████████████▊| 144099/144967 [2:08:21<16:05,  1.11s/it]"
     ]
    },
    {
     "name": "stdout",
     "output_type": "stream",
     "text": [
      "Saved after 144100 records\n"
     ]
    },
    {
     "name": "stderr",
     "output_type": "stream",
     "text": [
      "Geocoding Progress:  99%|████████████████████████████████▊| 144199/144967 [2:10:13<14:12,  1.11s/it]"
     ]
    },
    {
     "name": "stdout",
     "output_type": "stream",
     "text": [
      "Saved after 144200 records\n"
     ]
    },
    {
     "name": "stderr",
     "output_type": "stream",
     "text": [
      "Geocoding Progress: 100%|████████████████████████████████▊| 144299/144967 [2:12:05<12:41,  1.14s/it]"
     ]
    },
    {
     "name": "stdout",
     "output_type": "stream",
     "text": [
      "Saved after 144300 records\n"
     ]
    },
    {
     "name": "stderr",
     "output_type": "stream",
     "text": [
      "Geocoding Progress: 100%|████████████████████████████████▊| 144399/144967 [2:13:57<10:27,  1.10s/it]"
     ]
    },
    {
     "name": "stdout",
     "output_type": "stream",
     "text": [
      "Saved after 144400 records\n"
     ]
    },
    {
     "name": "stderr",
     "output_type": "stream",
     "text": [
      "Geocoding Progress: 100%|████████████████████████████████▉| 144499/144967 [2:15:49<08:40,  1.11s/it]"
     ]
    },
    {
     "name": "stdout",
     "output_type": "stream",
     "text": [
      "Saved after 144500 records\n"
     ]
    },
    {
     "name": "stderr",
     "output_type": "stream",
     "text": [
      "Geocoding Progress: 100%|████████████████████████████████▉| 144599/144967 [2:17:41<06:51,  1.12s/it]"
     ]
    },
    {
     "name": "stdout",
     "output_type": "stream",
     "text": [
      "Saved after 144600 records\n"
     ]
    },
    {
     "name": "stderr",
     "output_type": "stream",
     "text": [
      "Geocoding Progress: 100%|████████████████████████████████▉| 144699/144967 [2:19:33<04:56,  1.10s/it]"
     ]
    },
    {
     "name": "stdout",
     "output_type": "stream",
     "text": [
      "Saved after 144700 records\n"
     ]
    },
    {
     "name": "stderr",
     "output_type": "stream",
     "text": [
      "Geocoding Progress: 100%|████████████████████████████████▉| 144799/144967 [2:21:24<03:06,  1.11s/it]"
     ]
    },
    {
     "name": "stdout",
     "output_type": "stream",
     "text": [
      "Saved after 144800 records\n"
     ]
    },
    {
     "name": "stderr",
     "output_type": "stream",
     "text": [
      "Geocoding Progress: 100%|████████████████████████████████▉| 144899/144967 [2:23:16<01:15,  1.11s/it]"
     ]
    },
    {
     "name": "stdout",
     "output_type": "stream",
     "text": [
      "Saved after 144900 records\n"
     ]
    },
    {
     "name": "stderr",
     "output_type": "stream",
     "text": [
      "Geocoding Progress: 100%|█████████████████████████████████| 144967/144967 [2:24:32<00:00, 16.72it/s]\n"
     ]
    },
    {
     "name": "stdout",
     "output_type": "stream",
     "text": [
      "Geocoding completed! Results saved to 'geocoded_results.csv'\n"
     ]
    }
   ],
   "source": [
    "import pandas as pd\n",
    "import requests\n",
    "import time\n",
    "from tqdm import tqdm\n",
    "\n",
    "# Load CSV file\n",
    "df = pd.read_csv('/Users/yangyungchyi/Documents/Spring 2025/MIS 462/0420_2.csv')\n",
    "\n",
    "# Add 'Longitude' and 'Latitude' columns if they don't exist\n",
    "if 'Longitude' not in df.columns:\n",
    "    df['Longitude'] = pd.NA\n",
    "if 'Latitude' not in df.columns:\n",
    "    df['Latitude'] = pd.NA\n",
    "\n",
    "# Define the VGIN Composite Locator URL\n",
    "geocode_url = \"https://vginmaps.vdem.virginia.gov/arcgis/rest/services/Geocoding/VGIN_Composite_Locator/GeocodeServer/findAddressCandidates\"\n",
    "\n",
    "# Function to format address and make a request\n",
    "def geocode_address(street, city, state, zipcode):\n",
    "    if pd.isna(street) or pd.isna(city) or pd.isna(state) or pd.isna(zipcode):\n",
    "        return None, None  # Skip if address is incomplete\n",
    "    \n",
    "    address = f\"{street}, {city}, {state} {zipcode}\"\n",
    "    params = {\n",
    "        \"SingleLine\": address,\n",
    "        \"f\": \"json\",\n",
    "        \"outFields\": \"*\",  # Request all fields\n",
    "        \"outSR\": \"4326\"  # Force WGS84 (latitude/longitude)\n",
    "    }\n",
    "\n",
    "    response = requests.get(geocode_url, params=params)\n",
    "    \n",
    "    if response.status_code == 200:\n",
    "        data = response.json()\n",
    "        if \"candidates\" in data and len(data[\"candidates\"]) > 0:\n",
    "            best_match = data[\"candidates\"][0]\n",
    "            return best_match[\"location\"][\"x\"], best_match[\"location\"][\"y\"]  # Return longitude, latitude\n",
    "    return None, None\n",
    "\n",
    "# Iterate through the rows and geocode only the ones without geocoding results\n",
    "for i, row in tqdm(df.iterrows(), total=df.shape[0], desc=\"Geocoding Progress\", ncols=100):\n",
    "    # Skip rows that already have geocoded results\n",
    "    if pd.notna(row['Longitude']) and pd.notna(row['Latitude']):\n",
    "        continue  # Skip if coordinates already exist\n",
    "    \n",
    "    # Perform geocoding\n",
    "    longitude, latitude = geocode_address(row[\"Street1\"], row[\"City\"], row[\"State\"], row[\"ZIPCODE\"])\n",
    "    \n",
    "    # Assign the geocoding results to the dataframe\n",
    "    df.at[i, \"Longitude\"] = longitude\n",
    "    df.at[i, \"Latitude\"] = latitude\n",
    "    \n",
    "    # Save the file every 100 records\n",
    "    if (i + 1) % 100 == 0:\n",
    "        df.to_csv(\"0420_3.csv\", index=False)\n",
    "        print(f\"Saved after {i + 1} records\")\n",
    "\n",
    "    # Pause to avoid overloading the server with requests (optional but recommended)\n",
    "    time.sleep(1)  # Adjust the sleep time if necessary\n",
    "\n",
    "# Final save if there are remaining records after the loop\n",
    "df.to_csv(\"0420_3.csv\", index=False)\n",
    "\n",
    "print(\"Geocoding completed! Results saved to 'geocoded_results.csv'\")\n"
   ]
  }
 ],
 "metadata": {
  "kernelspec": {
   "display_name": "Python 3 (ipykernel)",
   "language": "python",
   "name": "python3"
  },
  "language_info": {
   "codemirror_mode": {
    "name": "ipython",
    "version": 3
   },
   "file_extension": ".py",
   "mimetype": "text/x-python",
   "name": "python",
   "nbconvert_exporter": "python",
   "pygments_lexer": "ipython3",
   "version": "3.11.4"
  }
 },
 "nbformat": 4,
 "nbformat_minor": 5
}
