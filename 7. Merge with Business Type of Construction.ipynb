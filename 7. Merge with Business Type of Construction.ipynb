{
 "cells": [
  {
   "cell_type": "code",
   "execution_count": 10,
   "id": "747699db",
   "metadata": {},
   "outputs": [
    {
     "name": "stderr",
     "output_type": "stream",
     "text": [
      "/var/folders/vl/66bj5_5x56n6mnk25p2th_m80000gn/T/ipykernel_40263/1733004996.py:8: DtypeWarning: Columns (5,6) have mixed types. Specify dtype option on import or set low_memory=False.\n",
      "  building_df = pd.read_csv(building_path)\n",
      "/var/folders/vl/66bj5_5x56n6mnk25p2th_m80000gn/T/ipykernel_40263/1733004996.py:9: DtypeWarning: Columns (17,18,19) have mixed types. Specify dtype option on import or set low_memory=False.\n",
      "  business_df = pd.read_csv(business_path)\n"
     ]
    },
    {
     "name": "stdout",
     "output_type": "stream",
     "text": [
      "✅ Cleaned & matched dataset saved to: /Users/yangyungchyi/Documents/Spring 2025/MIS 462/0420_building.csv\n"
     ]
    }
   ],
   "source": [
    "import pandas as pd\n",
    "import re\n",
    "\n",
    "# Load datasets\n",
    "building_path = '/Users/yangyungchyi/Documents/Spring 2025/MIS 462/Building_Type_of_Construction.csv'\n",
    "business_path = '/Users/yangyungchyi/Documents/Spring 2025/MIS 462/0420_without_building.csv'\n",
    "\n",
    "building_df = pd.read_csv(building_path)\n",
    "business_df = pd.read_csv(business_path)\n",
    "\n",
    "# === Street abbreviation mapping ===\n",
    "abbreviation_map = {\n",
    "    r\"\\bRDG\\b\": \"RIDGE\",\n",
    "    r\"\\bRI\\b\": \"RIDGE\",\n",
    "    r\"\\bRD\\b\": \"ROAD\",\n",
    "    r\"\\bST\\b\": \"STREET\",\n",
    "    r\"\\bAVE\\b\": \"AVENUE\",\n",
    "    r\"\\bBLVD\\b\": \"BOULEVARD\",\n",
    "    r\"\\bCTR\\b\": \"CENTER\",\n",
    "    r\"\\bLN\\b\": \"LANE\",\n",
    "    r\"\\bDR\\b\": \"DRIVE\",\n",
    "    r\"\\bPL\\b\": \"PLACE\",\n",
    "    r\"\\bPKWY\\b\": \"PARKWAY\",\n",
    "    r\"\\bHWY\\b\": \"HIGHWAY\",\n",
    "}\n",
    "\n",
    "def normalize_address(addr):\n",
    "    addr = str(addr).upper()\n",
    "    addr = re.sub(r'[^\\w\\s]', '', addr)  # Remove punctuation\n",
    "    for pattern, replacement in abbreviation_map.items():\n",
    "        addr = re.sub(pattern, replacement, addr)\n",
    "    return addr.strip()\n",
    "\n",
    "# Apply normalization\n",
    "building_df[\"Address_clean\"] = building_df[\"Address:\"].fillna(\"\").apply(normalize_address)\n",
    "business_df[\"Street1_clean\"] = business_df[\"Street1\"].fillna(\"\").apply(normalize_address)\n",
    "\n",
    "# === Merge on cleaned street fields ===\n",
    "merged = pd.merge(\n",
    "    business_df,\n",
    "    building_df[[\"Address_clean\", \"Cleaned Group(s)\"]],\n",
    "    left_on=\"Street1_clean\",\n",
    "    right_on=\"Address_clean\",\n",
    "    how=\"left\"\n",
    ")\n",
    "\n",
    "# Drop helper columns\n",
    "merged = merged.drop(columns=[\"Street1_clean\", \"Address_clean\"])\n",
    "\n",
    "# Filter only B and F if needed\n",
    "merged_filtered = merged[merged[\"Cleaned Group(s)\"].isin([\"B\", \"F\"])]\n",
    "\n",
    "# Remove duplicates\n",
    "merged_filtered = merged_filtered.drop_duplicates()\n",
    "\n",
    "# Save the result\n",
    "output_path = '/Users/yangyungchyi/Documents/Spring 2025/MIS 462/0420_building.csv'\n",
    "merged_filtered.to_csv(output_path, index=False)\n",
    "\n",
    "print(f\"✅ Cleaned & matched dataset saved to: {output_path}\")\n"
   ]
  }
 ],
 "metadata": {
  "kernelspec": {
   "display_name": "Python 3 (ipykernel)",
   "language": "python",
   "name": "python3"
  },
  "language_info": {
   "codemirror_mode": {
    "name": "ipython",
    "version": 3
   },
   "file_extension": ".py",
   "mimetype": "text/x-python",
   "name": "python",
   "nbconvert_exporter": "python",
   "pygments_lexer": "ipython3",
   "version": "3.11.4"
  }
 },
 "nbformat": 4,
 "nbformat_minor": 5
}
